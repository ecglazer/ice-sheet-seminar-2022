{
 "cells": [
  {
   "cell_type": "code",
   "execution_count": 173,
   "id": "802158aa-876a-40de-b7ad-36ba1f61ce05",
   "metadata": {},
   "outputs": [],
   "source": [
    "import numpy as np\n",
    "import matplotlib.pyplot as plt\n",
    "import xarray as xr\n",
    "import time\n",
    "\n",
    "from tqdm.notebook import tqdm"
   ]
  },
  {
   "cell_type": "code",
   "execution_count": 167,
   "id": "30f90f1b-9824-48b3-a77a-845d77726cec",
   "metadata": {},
   "outputs": [
    {
     "data": {
      "text/plain": [
       "1.001001001001001e-05"
      ]
     },
     "execution_count": 167,
     "metadata": {},
     "output_type": "execute_result"
    }
   ],
   "source": [
    "#set up time grid\n",
    "T = 0.01\n",
    "Nt = 1000\n",
    "t = np.linspace(0.0,T, num=Nt)\n",
    "dt = t[1]-t[0]\n",
    "\n",
    "#print(t)\n",
    "\n",
    "#set up space grid\n",
    "X = 1.0\n",
    "Nx = 100\n",
    "x = np.linspace(0.0,X, num=Nx)\n",
    "dx = x[1]-x[0]\n",
    "#print(x)\n",
    "dt"
   ]
  },
  {
   "cell_type": "code",
   "execution_count": 192,
   "id": "e0a187d7-20c1-48b9-950a-ac55ffb4df26",
   "metadata": {
    "tags": []
   },
   "outputs": [],
   "source": [
    "# inital conditions\n",
    "\n",
    "H = np.empty((Nx,Nt))\n",
    "H2 = np.empty((Nx,Nt))\n",
    "\n",
    "H[:] = np.nan\n",
    "H2[:] = np.nan\n",
    "\n",
    "\n",
    "H[:,0] = 1- 0.4*x\n",
    "H2[:,0] = 1- 0.4*x\n",
    "\n",
    "Hend = H[-1,i]\n",
    "def upwind_diff(f):\n",
    "    return (f[1:] - f[0:-1])/dx\n",
    "\n",
    "#q1 = -(H[1:] - H[0:-1])/dx * (H[1:] + H[0:-1])/2\n",
    "#q2 = -upwind_diff(H) * (H[1:] + H[0:-1])/2\n",
    "\n",
    "# fig, ax = plt.subplots()\n",
    "# ax.plot(x, H2)\n",
    "# ax.plot(x[1:], q2)\n",
    "# plt.show()\n",
    "\n",
    "#print(f'are q1 and q2 close? {np.allclose(q1,q2)}')\n",
    "\n",
    "\n",
    "a = 0.1"
   ]
  },
  {
   "cell_type": "code",
   "execution_count": 193,
   "id": "38d6ebb1-e23c-458e-8474-5322a9f1a881",
   "metadata": {},
   "outputs": [
    {
     "data": {
      "text/plain": [
       "(100, 1000)"
      ]
     },
     "execution_count": 193,
     "metadata": {},
     "output_type": "execute_result"
    }
   ],
   "source": [
    "H2.shape"
   ]
  },
  {
   "cell_type": "code",
   "execution_count": 199,
   "id": "b1a8abb6-0540-47a4-b8f3-fc809007bc1b",
   "metadata": {
    "tags": []
   },
   "outputs": [
    {
     "data": {
      "application/vnd.jupyter.widget-view+json": {
       "model_id": "cbd1de70d0cd4b0f9c87a52947f5399b",
       "version_major": 2,
       "version_minor": 0
      },
      "text/plain": [
       "  0%|          | 0/1000 [00:00<?, ?it/s]"
      ]
     },
     "metadata": {},
     "output_type": "display_data"
    },
    {
     "name": "stdout",
     "output_type": "stream",
     "text": [
      "[[0.9948916         nan        nan ...        nan        nan        nan]\n",
      " [0.9948916         nan        nan ...        nan        nan        nan]\n",
      " [0.99182497        nan        nan ...        nan        nan        nan]\n",
      " ...\n",
      " [       nan        nan        nan ...        nan        nan        nan]\n",
      " [       nan        nan        nan ...        nan        nan        nan]\n",
      " [       nan        nan        nan ...        nan        nan        nan]]\n"
     ]
    },
    {
     "data": {
      "image/png": "[encoded data removed]",
      "text/plain": [
       "<Figure size 432x288 with 1 Axes>"
      ]
     },
     "metadata": {
      "needs_background": "light"
     },
     "output_type": "display_data"
    }
   ],
   "source": [
    "for i in tqdm(np.arange(Nt)):\n",
    "    q = upwind_diff(H2[:,i]) * (H2[1:,i] + H2[0:-1,i])/2\n",
    "    \n",
    "    dqdx = upwind_diff(q)\n",
    "    \n",
    "    H2[1:-1,i] = H2[1:-1,i] + dt*(a + dqdx)\n",
    "    H2[0,i] = H2[1,i]\n",
    "    H2[-1,i] = Hend\n",
    "\n",
    "#     H[1:-1] = H[1:-1] + dt*(a + 0.5* (H[0:-2]**2 - 2*H[1:-1]**2 + H[2:]**2)/dx**2)\n",
    "    \n",
    "#     H[0] = H[1]\n",
    "#     H[-1] = Hend\n",
    "    \n",
    "    \n",
    "    \n",
    "    #if np.remainder(i,10)==0:\n",
    "    #    xr.dataarray(\n",
    "    \n",
    "    \n",
    "    \n",
    "    #print(f'are H and H2 close? {np.allclose(H,H2)}')\n",
    "\n",
    "    \n",
    "    # fig, ax = plt.subplots()\n",
    "    # ax.plot(x, H2-H)\n",
    "    # #ax.plot(x[1:-1], dt*(a + dqdx))\n",
    "    # plt.show()\n",
    "    # time.sleep(0.1)\n",
    "    # break\n",
    "print(H2)\n",
    "fig, ax = plt.subplots()\n",
    "ax.plot(x, H2[:,-1])\n",
    "plt.show()   \n",
    "#print(f'are H and H2 close? {np.allclose(H,H2)}')"
   ]
  },
  {
   "cell_type": "code",
   "execution_count": 195,
   "id": "fdf31147-53ac-4082-876d-326c847eaff5",
   "metadata": {},
   "outputs": [
    {
     "data": {
      "image/png": "[encoded data removed]",
      "text/plain": [
       "<Figure size 432x288 with 1 Axes>"
      ]
     },
     "metadata": {
      "needs_background": "light"
     },
     "output_type": "display_data"
    },
    {
     "name": "stdout",
     "output_type": "stream",
     "text": [
      "are H and H2 close? False\n"
     ]
    }
   ],
   "source": [
    "fig, ax = plt.subplots()\n",
    "ax.plot(x, H)\n",
    "plt.show()   \n",
    "print(f'are H and H2 close? {np.allclose(H,H2)}')\n"
   ]
  },
  {
   "cell_type": "code",
   "execution_count": 21,
   "id": "fe0bf27c-ea7f-4b34-81a0-ab47c2683e1e",
   "metadata": {},
   "outputs": [
    {
     "data": {
      "text/plain": [
       "int"
      ]
     },
     "execution_count": 21,
     "metadata": {},
     "output_type": "execute_result"
    }
   ],
   "source": [
    "type(N)"
   ]
  },
  {
   "cell_type": "code",
   "execution_count": null,
   "id": "9b2e65a6-f55b-435d-9e54-1ae793b9e93d",
   "metadata": {},
   "outputs": [],
   "source": []
  }
 ],
 "metadata": {
  "kernelspec": {
   "display_name": "Python 3 (ipykernel)",
   "language": "python",
   "name": "python3"
  },
  "language_info": {
   "codemirror_mode": {
    "name": "ipython",
    "version": 3
   },
   "file_extension": ".py",
   "mimetype": "text/x-python",
   "name": "python",
   "nbconvert_exporter": "python",
   "pygments_lexer": "ipython3",
   "version": "3.9.13"
  }
 },
 "nbformat": 4,
 "nbformat_minor": 5
}
